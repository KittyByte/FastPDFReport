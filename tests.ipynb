{
 "cells": [
  {
   "cell_type": "code",
   "execution_count": 1,
   "id": "8e0728ec",
   "metadata": {},
   "outputs": [],
   "source": [
    "from sqlalchemy import select, update, and_, cast, func, Integer, insert\n",
    "from app.services.utils import *"
   ]
  },
  {
   "cell_type": "code",
   "execution_count": null,
   "id": "f2044d0a",
   "metadata": {},
   "outputs": [
    {
     "name": "stdout",
     "output_type": "stream",
     "text": [
      "====================================================================================================\n",
      "[<Object: SalesReportOrm | Attributes: user_id=1, period_from=datetime.date(2024, 11, 21), period_to=datetime.date(2024, 12, 10), total_orders=31, total_revenue=164359.26, avg_order_value=5301.91, top_product_name='Робот-пылесос', top_product_sales=31565.96, cancelled_orders=3, successful_orders=19, returned_orders=3, payment_method_stats={'card': 100574.38, 'cash': 8552.81, 'online': 55232.08}, category_breakdown={'Умный дом': 54062.75, 'Транспорт': 7863.63, 'Аксессуары': 59397.57, 'Электроника': 43035.31}, sales_by_day={'2024-11-21': 6111.63, '2024-11-22': 5632.97, '2024-11-23': 1856.98, '2024-11-24': 1974.96, '2024-11-25': 519.76, '2024-11-26': 6089.54, '2024-11-27': 4822.54, '2024-11-28': 6248.29, '2024-11-29': 553.94, '2024-11-30': 3486.97, '2024-12-01': 404.54, '2024-12-02': 6268.0, '2024-12-03': 1320.98, '2024-12-04': 7699.34, '2024-12-05': 3756.55, '2024-12-06': 7940.49, '2024-12-07': 2260.07, '2024-12-08': 3344.26, '2024-12-09': 1357.87, '2024-12-10': 3854.09}, comment='Проверить не требуется', id=2, created_at=datetime.datetime(2025, 10, 17, 14, 3, 20, 687973), updated_at=datetime.datetime(2025, 10, 17, 14, 3, 20, 687973)>, <Object: SalesReportOrm | Attributes: user_id=1, period_from=datetime.date(2024, 11, 2), period_to=datetime.date(2024, 11, 9), total_orders=6, total_revenue=26450.02, avg_order_value=4408.34, top_product_name='Фитнес-браслет', top_product_sales=9033.91, cancelled_orders=0, successful_orders=3, returned_orders=0, payment_method_stats={'card': 13781.24, 'cash': 2674.09, 'online': 9994.69}, category_breakdown={'Умный дом': 5361.99, 'Транспорт': 7997.87, 'Аксессуары': 4536.99, 'Электроника': 8553.16}, sales_by_day={'2024-11-02': 534.18, '2024-11-03': 224.12, '2024-11-04': 1233.49, '2024-11-05': 2231.55, '2024-11-06': 1370.15, '2024-11-07': 239.79, '2024-11-08': 1039.57, '2024-11-09': 297.08}, comment='Содержит все данные по продажам', id=3, created_at=datetime.datetime(2025, 10, 17, 14, 3, 20, 687973), updated_at=datetime.datetime(2025, 10, 17, 14, 3, 20, 687973)>, <Object: SalesReportOrm | Attributes: user_id=1, period_from=datetime.date(2024, 10, 30), period_to=datetime.date(2024, 11, 21), total_orders=35, total_revenue=200567.59, avg_order_value=5730.5, top_product_name='Робот-пылесос', top_product_sales=151604.42, cancelled_orders=1, successful_orders=15, returned_orders=0, payment_method_stats={'card': 108481.9, 'cash': 49650.49, 'online': 42435.2}, category_breakdown={'Умный дом': 82666.6, 'Транспорт': 37825.83, 'Аксессуары': 23627.16, 'Электроника': 56448.0}, sales_by_day={'2024-10-30': 4179.69, '2024-10-31': 6407.47, '2024-11-01': 1009.19, '2024-11-02': 5401.76, '2024-11-03': 5580.81, '2024-11-04': 2640.42, '2024-11-05': 2342.95, '2024-11-06': 3792.07, '2024-11-07': 7792.85, '2024-11-08': 8136.27, '2024-11-09': 6035.03, '2024-11-10': 6979.45, '2024-11-11': 1535.24, '2024-11-12': 247.83, '2024-11-13': 819.28, '2024-11-14': 1887.35, '2024-11-15': 4307.0, '2024-11-16': 1905.88, '2024-11-17': 6263.09, '2024-11-18': 4025.47, '2024-11-19': 5170.62, '2024-11-20': 3498.32, '2024-11-21': 5743.7}, comment='Проверить не требуется', id=4, created_at=datetime.datetime(2025, 10, 17, 14, 3, 20, 687973), updated_at=datetime.datetime(2025, 10, 17, 14, 3, 20, 687973)>, <Object: SalesReportOrm | Attributes: user_id=1, period_from=datetime.date(2024, 11, 21), period_to=datetime.date(2024, 11, 26), total_orders=3, total_revenue=17420.3, avg_order_value=5806.77, top_product_name='Электросамокат', top_product_sales=14926.1, cancelled_orders=0, successful_orders=1, returned_orders=0, payment_method_stats={'card': 9323.35, 'cash': 3080.71, 'online': 5016.24}, category_breakdown={'Умный дом': 5148.55, 'Транспорт': 1634.75, 'Аксессуары': 6473.47, 'Электроника': 4163.53}, sales_by_day={'2024-11-21': 1795.22, '2024-11-22': 2717.85, '2024-11-23': 2397.61, '2024-11-24': 1782.43, '2024-11-25': 200.4, '2024-11-26': 1953.94}, comment='Содержит все данные по продажам', id=5, created_at=datetime.datetime(2025, 10, 17, 14, 3, 20, 687973), updated_at=datetime.datetime(2025, 10, 17, 14, 3, 20, 687973)>, <Object: SalesReportOrm | Attributes: user_id=1, period_from=datetime.date(2025, 3, 7), period_to=datetime.date(2025, 3, 26), total_orders=17, total_revenue=90183.25, avg_order_value=5304.9, top_product_name='Фитнес-браслет', top_product_sales=56600.34, cancelled_orders=0, successful_orders=15, returned_orders=0, payment_method_stats={'card': 1641.39, 'cash': 11636.75, 'online': 76905.11}, category_breakdown={'Умный дом': 26541.91, 'Транспорт': 21974.74, 'Аксессуары': 29880.65, 'Электроника': 11785.95}, sales_by_day={'2025-03-07': 2385.88, '2025-03-08': 1354.68, '2025-03-09': 3284.47, '2025-03-10': 781.57, '2025-03-11': 669.56, '2025-03-12': 441.11, '2025-03-13': 4019.04, '2025-03-14': 1113.24, '2025-03-15': 2356.69, '2025-03-16': 737.41, '2025-03-17': 3557.03, '2025-03-18': 592.03, '2025-03-19': 3198.78, '2025-03-20': 4225.85, '2025-03-21': 3368.92, '2025-03-22': 2540.61, '2025-03-23': 3671.99, '2025-03-24': 3533.04, '2025-03-25': 1146.03, '2025-03-26': 1739.31}, comment='Содержит все данные по продажам', id=6, created_at=datetime.datetime(2025, 10, 17, 14, 3, 20, 687973), updated_at=datetime.datetime(2025, 10, 17, 14, 3, 20, 687973)>, <Object: SalesReportOrm | Attributes: user_id=1, period_from=datetime.date(2025, 2, 25), period_to=datetime.date(2025, 3, 26), total_orders=25, total_revenue=122131.33, avg_order_value=4885.25, top_product_name='Умная лампа', top_product_sales=104656.05, cancelled_orders=0, successful_orders=3, returned_orders=0, payment_method_stats={'card': 22849.17, 'cash': 36081.02, 'online': 63201.14}, category_breakdown={'Умный дом': 50235.43, 'Транспорт': 8648.7, 'Аксессуары': 25023.41, 'Электроника': 38223.78}, sales_by_day={'2025-02-25': 775.57, '2025-02-26': 669.35, '2025-02-27': 927.06, '2025-02-28': 3609.59, '2025-03-01': 62.01, '2025-03-02': 2297.89, '2025-03-03': 3883.34, '2025-03-04': 3618.94, '2025-03-05': 699.41, '2025-03-06': 1758.54, '2025-03-07': 1890.67, '2025-03-08': 3596.87, '2025-03-09': 2634.74, '2025-03-10': 2453.58, '2025-03-11': 1436.95, '2025-03-12': 3178.72, '2025-03-13': 161.76, '2025-03-14': 3765.26, '2025-03-15': 1075.33, '2025-03-16': 1195.02, '2025-03-17': 1620.41, '2025-03-18': 2624.86, '2025-03-19': 2389.81, '2025-03-20': 2583.84, '2025-03-21': 2556.0, '2025-03-22': 192.11, '2025-03-23': 1504.46, '2025-03-24': 3445.47, '2025-03-25': 270.5, '2025-03-26': 324.17}, comment='Проверить не требуется', id=7, created_at=datetime.datetime(2025, 10, 17, 14, 3, 20, 687973), updated_at=datetime.datetime(2025, 10, 17, 14, 3, 20, 687973)>, <Object: SalesReportOrm | Attributes: user_id=1, period_from=datetime.date(2025, 2, 19), period_to=datetime.date(2025, 3, 4), total_orders=35, total_revenue=189575.06, avg_order_value=5416.43, top_product_name='Электросамокат', top_product_sales=172213.82, cancelled_orders=1, successful_orders=4, returned_orders=1, payment_method_stats={'card': 71194.72, 'cash': 93371.24, 'online': 25009.1}, category_breakdown={'Умный дом': 56071.44, 'Транспорт': 34750.67, 'Аксессуары': 53086.65, 'Электроника': 45666.3}, sales_by_day={'2025-02-19': 8510.08, '2025-02-20': 6324.7, '2025-02-21': 10471.48, '2025-02-22': 802.92, '2025-02-23': 12875.43, '2025-02-24': 10392.16, '2025-02-25': 5724.95, '2025-02-26': 6015.99, '2025-02-27': 3936.34, '2025-02-28': 10567.15, '2025-03-01': 3905.58, '2025-03-02': 2047.88, '2025-03-03': 11467.61, '2025-03-04': 11692.71}, comment='Проверить не требуется', id=8, created_at=datetime.datetime(2025, 10, 17, 14, 3, 20, 687973), updated_at=datetime.datetime(2025, 10, 17, 14, 3, 20, 687973)>, <Object: SalesReportOrm | Attributes: user_id=1, period_from=datetime.date(2024, 11, 29), period_to=datetime.date(2024, 12, 23), total_orders=10, total_revenue=44930.85, avg_order_value=4493.09, top_product_name='Умная колонка', top_product_sales=41614.16, cancelled_orders=2, successful_orders=0, returned_orders=1, payment_method_stats={'card': 555.07, 'cash': 21260.14, 'online': 23115.64}, category_breakdown={'Умный дом': 27752.1, 'Транспорт': 14517.96, 'Аксессуары': 1438.93, 'Электроника': 1221.87}, sales_by_day={'2024-11-29': 1593.11, '2024-11-30': 1153.43, '2024-12-01': 386.97, '2024-12-02': 733.29, '2024-12-03': 1287.44, '2024-12-04': 391.5, '2024-12-05': 889.99, '2024-12-06': 1019.7, '2024-12-07': 706.88, '2024-12-08': 1087.32, '2024-12-09': 239.61, '2024-12-10': 122.15, '2024-12-11': 15.39, '2024-12-12': 418.84, '2024-12-13': 1629.43, '2024-12-14': 1642.41, '2024-12-15': 291.5, '2024-12-16': 958.09, '2024-12-17': 310.6, '2024-12-18': 739.54, '2024-12-19': 707.41, '2024-12-20': 12.98, '2024-12-21': 1379.2, '2024-12-22': 269.08, '2024-12-23': 1743.18}, comment='Автоматически сгенерированный отчёт', id=9, created_at=datetime.datetime(2025, 10, 17, 14, 3, 20, 687973), updated_at=datetime.datetime(2025, 10, 17, 14, 3, 20, 687973)>, <Object: SalesReportOrm | Attributes: user_id=1, period_from=datetime.date(2025, 5, 23), period_to=datetime.date(2025, 6, 11), total_orders=49, total_revenue=240907.07, avg_order_value=4916.47, top_product_name='Умная лампа', top_product_sales=109904.55, cancelled_orders=5, successful_orders=11, returned_orders=1, payment_method_stats={'card': 85191.14, 'cash': 50105.99, 'online': 105609.94}, category_breakdown={'Умный дом': 23054.92, 'Транспорт': 173966.63, 'Аксессуары': 18796.34, 'Электроника': 25089.18}, sales_by_day={'2025-05-23': 574.64, '2025-05-24': 10117.69, '2025-05-25': 2406.98, '2025-05-26': 10675.53, '2025-05-27': 6232.94, '2025-05-28': 1842.61, '2025-05-29': 4799.65, '2025-05-30': 428.43, '2025-05-31': 11746.31, '2025-06-01': 6310.19, '2025-06-02': 2422.37, '2025-06-03': 8130.65, '2025-06-04': 8481.04, '2025-06-05': 10025.57, '2025-06-06': 10106.39, '2025-06-07': 2856.18, '2025-06-08': 9227.49, '2025-06-09': 3739.11, '2025-06-10': 4485.98, '2025-06-11': 6430.8}, comment='Содержит все данные по продажам', id=10, created_at=datetime.datetime(2025, 10, 17, 14, 3, 20, 687973), updated_at=datetime.datetime(2025, 10, 17, 14, 3, 20, 687973)>, <Object: SalesReportOrm | Attributes: user_id=1, period_from=datetime.date(2025, 6, 10), period_to=datetime.date(2025, 7, 1), total_orders=49, total_revenue=247005.22, avg_order_value=5040.92, top_product_name='Наушники Bluetooth', top_product_sales=23767.12, cancelled_orders=3, successful_orders=45, returned_orders=2, payment_method_stats={'card': 141947.13, 'cash': 23731.58, 'online': 81326.51}, category_breakdown={'Умный дом': 49292.81, 'Транспорт': 92898.12, 'Аксессуары': 70720.9, 'Электроника': 34093.38}, sales_by_day={'2025-06-10': 2452.66, '2025-06-11': 2172.18, '2025-06-12': 1323.04, '2025-06-13': 1290.11, '2025-06-14': 7626.44, '2025-06-15': 3721.13, '2025-06-16': 250.61, '2025-06-17': 7448.46, '2025-06-18': 6013.21, '2025-06-19': 8502.19, '2025-06-20': 5085.94, '2025-06-21': 917.72, '2025-06-22': 7940.27, '2025-06-23': 7703.91, '2025-06-24': 8867.73, '2025-06-25': 1788.29, '2025-06-26': 8462.75, '2025-06-27': 11192.49, '2025-06-28': 2401.55, '2025-06-29': 2701.49, '2025-06-30': 2201.87, '2025-07-01': 452.64}, comment='Содержит все данные по продажам', id=11, created_at=datetime.datetime(2025, 10, 17, 14, 3, 20, 687973), updated_at=datetime.datetime(2025, 10, 17, 14, 3, 20, 687973)>]\n",
      "====================================================================================================\n"
     ]
    }
   ],
   "source": [
    "with session_factory() as session:\n",
    "    query = select(SalesReportOrm)\n",
    "    # r = session.get(SalesReportOrm, ident=1)  # Способ получения сущности, работает только для одной записи\n",
    "    r = session.execute(query).scalars().all()[:10]\n",
    "    # mappings делает сопоставление поля - значение, без него возвращается просто кортеж значений\n",
    "    # Метод scalars() используется, когда мы ожидаем получить одну колонку результата, а не несколько полей. \n",
    "    # Например, когда мы запрашиваем всю модель (в нашем случае SalesReportOrm) или одно конкретное поле (например, SalesReportOrm).\n",
    "\n",
    "    # r = session.execute(query).scalar()  \n",
    "    # Метод scalar() используется, когда мы ожидаем одну запись и одно поле в результате запроса. Если запрос вернет больше одной строки, метод выбросит исключение.\n",
    "    print('='*100)\n",
    "    print(r[0].user_id)\n",
    "    print('='*100)"
   ]
  },
  {
   "cell_type": "code",
   "execution_count": 6,
   "id": "e4260cea",
   "metadata": {},
   "outputs": [
    {
     "name": "stdout",
     "output_type": "stream",
     "text": [
      "2025-10-17 17:04:35,852 INFO sqlalchemy.engine.Engine BEGIN (implicit)\n",
      "2025-10-17 17:04:35,853 INFO sqlalchemy.engine.Engine INSERT INTO \"user\" (username, password, disabled) VALUES (%(username__0)s::VARCHAR, %(password__0)s::VARCHAR, %(disabled__0)s), (%(username__1)s::VARCHAR, %(password__1)s::VARCHAR, %(disabled__1)s), (%(username__2)s::VARCHAR, %(password__2)s::VARCHAR, %(disabled__2)s) RETURNING \"user\".id\n",
      "2025-10-17 17:04:35,853 INFO sqlalchemy.engine.Engine [cached since 18.46s ago (insertmanyvalues) 1/1 (unordered)] [SQL parameters hidden due to hide_parameters=True]\n",
      "2025-10-17 17:04:35,856 INFO sqlalchemy.engine.Engine COMMIT\n",
      "====================================================================================================\n",
      "[8, 9, 10]\n",
      "====================================================================================================\n"
     ]
    }
   ],
   "source": [
    "import random\n",
    "\n",
    "with session_factory() as session:\n",
    "    query = insert(UserOrm).returning(UserOrm.id)\n",
    "    # r = session.get(SalesReportOrm, ident=1)  # Способ получения сущности, работает только для одной записи\n",
    "    r = session.execute(\n",
    "        query, [\n",
    "            UserOrm(username=f\"spongebob{round(random.random(), 3)}\", password='acuna_matata').to_dict(),\n",
    "            UserOrm(username=f\"spongebob{round(random.random(), 3)}\", password='acuna_matata').to_dict(),\n",
    "            UserOrm(username=f\"spongebob{round(random.random(), 3)}\", password='acuna_matata').to_dict()\n",
    "        ]\n",
    "    )\n",
    "    session.commit()\n",
    "    # Метод scalars() используется, когда мы ожидаем получить одну колонку результата, а не несколько полей. \n",
    "    # Например, когда мы запрашиваем всю модель (в нашем случае SalesReportOrm) или одно конкретное поле (например, только имена пользователей).\n",
    "    # r = session.execute(query).scalar()  # работает как scalars, только он вернет первую сущность как first()\n",
    "    print('='*100)\n",
    "    print(r.scalars().all())\n",
    "    print('='*100)"
   ]
  },
  {
   "cell_type": "code",
   "execution_count": null,
   "id": "2692b33b",
   "metadata": {},
   "outputs": [
    {
     "name": "stdout",
     "output_type": "stream",
     "text": [
      "2025-07-30 22:39:49,152 INFO sqlalchemy.engine.Engine BEGIN (implicit)\n",
      "2025-07-30 22:39:49,155 INFO sqlalchemy.engine.Engine INSERT INTO \"user\" (name, fullname) VALUES (%(name__0)s::VARCHAR, %(fullname__0)s::VARCHAR), (%(name__1)s::VARCHAR, %(fullname__1)s::VARCHAR), (%(name__2)s::VARCHAR, %(fullname__2)s::VARCHAR), (%(name__3)s::VARCHAR, %(fullname__3)s::VARCHAR), (%(name__4)s::VARCHAR, %(fullname__4)s::VARCHAR) RETURNING \"user\".id, \"user\".name, \"user\".fullname, \"user\".created_at, \"user\".updated_at\n",
      "2025-07-30 22:39:49,157 INFO sqlalchemy.engine.Engine [cached since 42.2s ago (insertmanyvalues) 1/1 (unordered)] [SQL parameters hidden due to hide_parameters=True]\n",
      "2025-07-30 22:39:49,161 INFO sqlalchemy.engine.Engine COMMIT\n",
      "[User(id=20, name='spongebob', fullname='Spongebob Squarepants'), User(id=21, name='sandy', fullname='Sandy Cheeks'), User(id=22, name='patrick', fullname='Patrick Star'), User(id=23, name='squidward', fullname='Squidward Tentacles'), User(id=24, name='ehkrabs', fullname='Eugene H. Krabs')]\n"
     ]
    }
   ],
   "source": [
    "with session_factory() as session:\n",
    "    users = session.scalars(\n",
    "        insert(UserOrm).returning(UserOrm),\n",
    "        [\n",
    "            {\"name\": \"spongebob\", \"fullname\": \"Spongebob Squarepants\"},\n",
    "            {\"name\": \"sandy\", \"fullname\": \"Sandy Cheeks\"},\n",
    "            {\"name\": \"patrick\", \"fullname\": \"Patrick Star\"},\n",
    "            {\"name\": \"squidward\", \"fullname\": \"Squidward Tentacles\"},\n",
    "            {\"name\": \"ehkrabs\", \"fullname\": \"Eugene H. Krabs\"},\n",
    "        ],\n",
    "    )\n",
    "    session.commit()\n",
    "    print(users.all())"
   ]
  },
  {
   "cell_type": "code",
   "execution_count": null,
   "id": "e7f8b187",
   "metadata": {},
   "outputs": [],
   "source": [
    "def education_examples():\n",
    "    with session_factory() as session:\n",
    "        user = session.get(UserOrm, 3)  # При обновлении через get будет 2 запроса, на получение и обновление\n",
    "        user.name=random.choice(['Бобер', 'Цыпа', 'Голубио'])\n",
    "        user.fullname=random.choice(['Бобер', 'Цыпа', 'Голубио'])\n",
    "        # session.flush()  сохраняет изменения в бд, но не завершает сессию как commit\n",
    "        session.expire(user)  # сброс незакоммиченных изменений объекта user\n",
    "        session.expire_all()  # сброс всех незакоммиченных изменений в сессии\n",
    "        print(user.fullname)  # после expire\\expire_all при попытке доступа к полям объекта будет выполнен новый запрос к БД\n",
    "        session.refresh(user)  # делает запрос в бд на получение актуальных значений"
   ]
  },
  {
   "cell_type": "code",
   "execution_count": null,
   "id": "935443b4",
   "metadata": {},
   "outputs": [
    {
     "name": "stdout",
     "output_type": "stream",
     "text": [
      "====================================================================================================\n",
      "2025-08-20 14:46:21,086 INFO sqlalchemy.engine.Engine BEGIN (implicit)\n",
      "2025-08-20 14:46:21,087 INFO sqlalchemy.engine.Engine SELECT \"user\".id, \"user\".username, \"user\".password, \"user\".fullname, \"user\".email, \"user\".disabled, \"user\".created_at, \"user\".updated_at \n",
      "FROM \"user\" \n",
      "WHERE \"user\".id = %(id_1)s::INTEGER\n",
      "2025-08-20 14:46:21,090 INFO sqlalchemy.engine.Engine [cached since 2272s ago] [SQL parameters hidden due to hide_parameters=True]\n",
      "2025-08-20 14:46:21,092 INFO sqlalchemy.engine.Engine ROLLBACK\n",
      "username='spongebob0.077' fullname='Spongebob Squarepants' email=None disabled=False hashed_password='$2b$12$gwGmvdhGNO2FW1pqqSQpOOgQSmX5jHpGM2Zv8TeK4shy9kFm0V8ui'\n"
     ]
    },
    {
     "data": {
      "text/plain": [
       "True"
      ]
     },
     "execution_count": 3,
     "metadata": {},
     "output_type": "execute_result"
    }
   ],
   "source": [
    "from app.users.dao import UserDAO\n",
    "from app.users.schemas import UserInDB\n",
    "import random\n",
    "\n",
    "# id: dict = UserDAO.create(username=f\"spongebob{round(random.random(), 3)}\", fullname=\"Spongebob Squarepants\", password='acuna_matata')\n",
    "# UserDAO.create_bulk([{'username': \"spongebo221b\", 'fullname':\"Spongebob Squarepants\"}, {'username': \"spong11ebo1b\", 'fullname':\"Spongebob Squarepants\"}])\n",
    "# UserDAO.delete(id=69)\n",
    "print('='*100)\n",
    "user = UserDAO.find_one_or_none(id=3)\n",
    "print(UserInDB(**user))\n",
    "UserDAO.is_valid_password('acuna_matata', user['password'])"
   ]
  },
  {
   "cell_type": "code",
   "execution_count": null,
   "id": "8ac46959",
   "metadata": {},
   "outputs": [
    {
     "name": "stdout",
     "output_type": "stream",
     "text": [
      "b'$2b$12$zwb/ZwhPiwc1Fayz3KtcMuPpxjSmN3TmtlU5MjspCroFSH2sdrRxC'\n",
      "It Matches!\n"
     ]
    }
   ],
   "source": [
    "import bcrypt\n",
    "password = '$2b$12$gwGmvdhGNO2FW1pqqSQpOOgQSmX5jHpGM2Zv8TeK4shy9kFm0V8ui'.encode()\n",
    "# Hash a password for the first time, with a randomly-generated salt\n",
    "hashed = bcrypt.hashpw(password, bcrypt.gensalt())\n",
    "print(hashed)\n",
    "# Check that an unhashed password matches one that has previously been\n",
    "# hashed\n",
    "if bcrypt.checkpw(password, hashed):\n",
    "    print(\"It Matches!\")\n",
    "else:\n",
    "    print(\"It Does not Match :(\")"
   ]
  },
  {
   "cell_type": "code",
   "execution_count": null,
   "id": "cbc48bc6",
   "metadata": {},
   "outputs": [
    {
     "name": "stdout",
     "output_type": "stream",
     "text": [
      "2025-09-14 21:42:46,995 INFO sqlalchemy.engine.Engine BEGIN (implicit)\n",
      "2025-09-14 21:42:46,999 INFO sqlalchemy.engine.Engine INSERT INTO \"user\" (username, password, fullname, disabled) VALUES (%(username_m0)s::VARCHAR, %(password_m0)s::VARCHAR, %(fullname_m0)s::VARCHAR, %(disabled)s), (%(username_m1)s::VARCHAR, %(password_m1)s::VARCHAR, %(fullname_m1)s::VARCHAR, %(disabled_m1)s), (%(username_m2)s::VARCHAR, %(password_m2)s::VARCHAR, %(fullname_m2)s::VARCHAR, %(disabled_m2)s), (%(username_m3)s::VARCHAR, %(password_m3)s::VARCHAR, %(fullname_m3)s::VARCHAR, %(disabled_m3)s) RETURNING \"user\".id\n",
      "2025-09-14 21:42:47,000 INFO sqlalchemy.engine.Engine [no key 0.00102s] [SQL parameters hidden due to hide_parameters=True]\n",
      "2025-09-14 21:42:47,003 INFO sqlalchemy.engine.Engine COMMIT\n",
      "====================================================================================================\n",
      "[14, 15, 16, 17]\n",
      "2025-09-14 21:42:47,013 INFO sqlalchemy.engine.Engine BEGIN (implicit)\n",
      "2025-09-14 21:42:47,015 INFO sqlalchemy.engine.Engine SELECT \"user\".id, \"user\".username, \"user\".password, \"user\".fullname, \"user\".email, \"user\".disabled, \"user\".created_at, \"user\".updated_at \n",
      "FROM \"user\" \n",
      "WHERE \"user\".id = %(id_1)s::INTEGER\n",
      "2025-09-14 21:42:47,015 INFO sqlalchemy.engine.Engine [cached since 62.21s ago] [SQL parameters hidden due to hide_parameters=True]\n",
      "2025-09-14 21:42:47,018 INFO sqlalchemy.engine.Engine ROLLBACK\n",
      "====================================================================================================\n",
      "$2b$12$gXH.yapFAfffdCmoNuNFpuacZHJdi2Ntx9XGglV.2za3jI7jKQh.q\n",
      "True\n",
      "2025-09-14 21:42:47,266 INFO sqlalchemy.engine.Engine BEGIN (implicit)\n",
      "2025-09-14 21:42:47,267 INFO sqlalchemy.engine.Engine SELECT \"user\".id, \"user\".username, \"user\".password, \"user\".fullname, \"user\".email, \"user\".disabled, \"user\".created_at, \"user\".updated_at \n",
      "FROM \"user\" \n",
      "WHERE \"user\".id = %(id_1)s::INTEGER\n",
      "2025-09-14 21:42:47,269 INFO sqlalchemy.engine.Engine [cached since 62.46s ago] [SQL parameters hidden due to hide_parameters=True]\n",
      "2025-09-14 21:42:47,271 INFO sqlalchemy.engine.Engine ROLLBACK\n",
      "====================================================================================================\n",
      "$2b$12$AOb/0Jz1y3Mu3zFmoTrsD.DZ3Twa9zWqsHGP.Bge/hU/vMu4/ujTe\n",
      "True\n",
      "2025-09-14 21:42:47,519 INFO sqlalchemy.engine.Engine BEGIN (implicit)\n",
      "2025-09-14 21:42:47,521 INFO sqlalchemy.engine.Engine SELECT \"user\".id, \"user\".username, \"user\".password, \"user\".fullname, \"user\".email, \"user\".disabled, \"user\".created_at, \"user\".updated_at \n",
      "FROM \"user\" \n",
      "WHERE \"user\".id = %(id_1)s::INTEGER\n",
      "2025-09-14 21:42:47,522 INFO sqlalchemy.engine.Engine [cached since 62.72s ago] [SQL parameters hidden due to hide_parameters=True]\n",
      "2025-09-14 21:42:47,524 INFO sqlalchemy.engine.Engine ROLLBACK\n",
      "====================================================================================================\n",
      "$2b$12$gAym8fD2JwyzjffGwH0v7e.GkdKKVg8JrAzoWG2QKEFRfR.FZepCy\n",
      "True\n",
      "2025-09-14 21:42:47,771 INFO sqlalchemy.engine.Engine BEGIN (implicit)\n",
      "2025-09-14 21:42:47,772 INFO sqlalchemy.engine.Engine SELECT \"user\".id, \"user\".username, \"user\".password, \"user\".fullname, \"user\".email, \"user\".disabled, \"user\".created_at, \"user\".updated_at \n",
      "FROM \"user\" \n",
      "WHERE \"user\".id = %(id_1)s::INTEGER\n",
      "2025-09-14 21:42:47,772 INFO sqlalchemy.engine.Engine [cached since 62.97s ago] [SQL parameters hidden due to hide_parameters=True]\n",
      "2025-09-14 21:42:47,774 INFO sqlalchemy.engine.Engine ROLLBACK\n",
      "====================================================================================================\n",
      "$2b$12$LrvLcZ6bI83Syt3euuMZqOy2vAk4.E7GIXEQPHeh0SjYrBOPvzVz6\n",
      "True\n"
     ]
    }
   ],
   "source": [
    "import random\n",
    "from app.users.dao import UserDAO\n",
    "\n",
    "\n",
    "ids: dict = UserDAO.create_bulk([\n",
    "    {'username': f\"spongebob{round(random.random(), 3)}\", 'fullname': \"Spongebob Squarepants\", 'password': 'acuna_matata'},\n",
    "    {'username': f\"spongebob{round(random.random(), 3)}\", 'fullname': \"Spongebob Squarepants\", 'password': 'acuna_matata'},\n",
    "    {'username': f\"spongebob{round(random.random(), 3)}\", 'fullname': \"Spongebob Squarepants\", 'password': 'acuna_matata'},\n",
    "    {'username': f\"spongebob{round(random.random(), 3)}\", 'fullname': \"Spongebob Squarepants\", 'password': 'acuna_matata'},\n",
    "])\n",
    "print('='*100)\n",
    "print(ids)\n",
    "for id in ids:\n",
    "    user = UserDAO.find_one_or_none(id=id)\n",
    "    user_pass = user.hashed_password\n",
    "    print('='*100)\n",
    "    print(user_pass)\n",
    "    print(UserDAO.is_valid_password('acuna_matata', user_pass))"
   ]
  },
  {
   "cell_type": "code",
   "execution_count": null,
   "id": "8312f1b7",
   "metadata": {},
   "outputs": [
    {
     "name": "stdout",
     "output_type": "stream",
     "text": [
      "132131230\n"
     ]
    },
    {
     "ename": "AttributeError",
     "evalue": "'str' object has no attribute 'hashed_password'",
     "output_type": "error",
     "traceback": [
      "\u001b[31m---------------------------------------------------------------------------\u001b[39m",
      "\u001b[31mAttributeError\u001b[39m                            Traceback (most recent call last)",
      "\u001b[36mCell\u001b[39m\u001b[36m \u001b[39m\u001b[32mIn[7]\u001b[39m\u001b[32m, line 30\u001b[39m\n\u001b[32m     26\u001b[39m     \u001b[38;5;28;01mif\u001b[39;00m user \u001b[38;5;129;01mand\u001b[39;00m verify_password(\u001b[33m'\u001b[39m\u001b[33mpassword\u001b[39m\u001b[33m'\u001b[39m, user.hashed_password):\n\u001b[32m     27\u001b[39m         \u001b[38;5;28;01mreturn\u001b[39;00m user\n\u001b[32m---> \u001b[39m\u001b[32m30\u001b[39m \u001b[43mauthenticate_user\u001b[49m\u001b[43m(\u001b[49m\u001b[33;43m'\u001b[39;49m\u001b[33;43m132131230\u001b[39;49m\u001b[33;43m'\u001b[39;49m\u001b[43m)\u001b[49m\n",
      "\u001b[36mCell\u001b[39m\u001b[36m \u001b[39m\u001b[32mIn[7]\u001b[39m\u001b[32m, line 26\u001b[39m, in \u001b[36mauthenticate_user\u001b[39m\u001b[34m(user)\u001b[39m\n\u001b[32m     24\u001b[39m \u001b[38;5;28;01mdef\u001b[39;00m\u001b[38;5;250m \u001b[39m\u001b[34mauthenticate_user\u001b[39m(user: Annotated[UserInDB, Depends(get_user)]) -> UserInDB | \u001b[38;5;28;01mNone\u001b[39;00m:\n\u001b[32m     25\u001b[39m     \u001b[38;5;28mprint\u001b[39m(user)\n\u001b[32m---> \u001b[39m\u001b[32m26\u001b[39m     \u001b[38;5;28;01mif\u001b[39;00m user \u001b[38;5;129;01mand\u001b[39;00m verify_password(\u001b[33m'\u001b[39m\u001b[33mpassword\u001b[39m\u001b[33m'\u001b[39m, \u001b[43muser\u001b[49m\u001b[43m.\u001b[49m\u001b[43mhashed_password\u001b[49m):\n\u001b[32m     27\u001b[39m         \u001b[38;5;28;01mreturn\u001b[39;00m user\n",
      "\u001b[31mAttributeError\u001b[39m: 'str' object has no attribute 'hashed_password'"
     ]
    }
   ],
   "source": [
    "from app.users.schemas import UserInDB\n",
    "from fastapi import Depends\n",
    "from typing import Annotated\n",
    "\n",
    "\n",
    "ALGORITHM = 'HS256'\n",
    "ACCESS_TOKEN_EXPIRE_MINUTES = 30\n",
    "\n",
    "\n",
    "def verify_password(password: str, hashed_password: str) -> bool:\n",
    "    return True\n",
    "\n",
    "\n",
    "def get_user(username: str) -> UserInDB | None:\n",
    "    return UserInDB(\n",
    "        username=username,\n",
    "        fullname='sfdds',\n",
    "        email='1123123',\n",
    "        disabled=False,\n",
    "        hashed_password='sdfdsfsfsdfsf'\n",
    "    )\n",
    "\n",
    "\n",
    "def authenticate_user(user: Annotated[UserInDB, Depends(get_user)]) -> UserInDB | None:\n",
    "    print(user)\n",
    "    if user and verify_password('password', user.hashed_password):\n",
    "        return user\n",
    "\n",
    "\n",
    "authenticate_user('132131230')"
   ]
  },
  {
   "cell_type": "code",
   "execution_count": null,
   "id": "f5654f11",
   "metadata": {},
   "outputs": [
    {
     "ename": "TypeError",
     "evalue": "'>=' not supported between instances of 'str' and 'datetime.date'",
     "output_type": "error",
     "traceback": [
      "\u001b[31m---------------------------------------------------------------------------\u001b[39m",
      "\u001b[31mTypeError\u001b[39m                                 Traceback (most recent call last)",
      "\u001b[36mCell\u001b[39m\u001b[36m \u001b[39m\u001b[32mIn[10]\u001b[39m\u001b[32m, line 4\u001b[39m\n\u001b[32m      1\u001b[39m \u001b[38;5;28;01mfrom\u001b[39;00m\u001b[38;5;250m \u001b[39m\u001b[34;01mapp\u001b[39;00m\u001b[34;01m.\u001b[39;00m\u001b[34;01mpdf_reports\u001b[39;00m\u001b[34;01m.\u001b[39;00m\u001b[34;01mdao\u001b[39;00m\u001b[38;5;250m \u001b[39m\u001b[38;5;28;01mimport\u001b[39;00m ReportDAO, SalesReportDAO\n\u001b[32m      2\u001b[39m \u001b[38;5;28;01mfrom\u001b[39;00m\u001b[38;5;250m \u001b[39m\u001b[34;01mdatetime\u001b[39;00m\u001b[38;5;250m \u001b[39m\u001b[38;5;28;01mimport\u001b[39;00m date\n\u001b[32m----> \u001b[39m\u001b[32m4\u001b[39m sales = SalesReportDAO.find_all(\u001b[33;43m'\u001b[39;49m\u001b[33;43mperiod_from\u001b[39;49m\u001b[33;43m'\u001b[39;49m\u001b[43m>\u001b[49m\u001b[43m=\u001b[49m\u001b[43mdate\u001b[49m\u001b[43m(\u001b[49m\u001b[32;43m2024\u001b[39;49m\u001b[43m,\u001b[49m\u001b[32;43m11\u001b[39;49m\u001b[43m,\u001b[49m\u001b[32;43m7\u001b[39;49m\u001b[43m)\u001b[49m, \u001b[33m'\u001b[39m\u001b[33mperiod_to\u001b[39m\u001b[33m'\u001b[39m<=date(\u001b[32m2025\u001b[39m, \u001b[32m7\u001b[39m,\u001b[32m5\u001b[39m))\n",
      "\u001b[31mTypeError\u001b[39m: '>=' not supported between instances of 'str' and 'datetime.date'"
     ]
    }
   ],
   "source": [
    "from app.pdf_reports.dao import ReportDAO, SalesReportDAO\n",
    "from datetime import date\n",
    "\n",
    "sales = SalesReportDAO.find_all(period_from=date(2024,11,7), period_to=date(2025, 7,5))"
   ]
  },
  {
   "cell_type": "code",
   "execution_count": 6,
   "id": "d584821a",
   "metadata": {},
   "outputs": [
    {
     "name": "stdout",
     "output_type": "stream",
     "text": [
      "2025-10-20 18:57:55,422 INFO sqlalchemy.engine.Engine BEGIN (implicit)\n",
      "2025-10-20 18:57:55,423 INFO sqlalchemy.engine.Engine SELECT sales_report.user_id, sales_report.period_from, sales_report.period_to, sales_report.total_orders, sales_report.total_revenue, sales_report.avg_order_value, sales_report.top_product_name, sales_report.top_product_sales, sales_report.cancelled_orders, sales_report.successful_orders, sales_report.returned_orders, sales_report.payment_method_stats, sales_report.category_breakdown, sales_report.sales_by_day, sales_report.comment, sales_report.id, sales_report.created_at, sales_report.updated_at \n",
      "FROM sales_report \n",
      "WHERE sales_report.period_from >= %(period_from_1)s::DATE AND sales_report.period_to <= %(period_to_1)s::DATE\n",
      "2025-10-20 18:57:55,424 INFO sqlalchemy.engine.Engine [cached since 56.94s ago] [SQL parameters hidden due to hide_parameters=True]\n",
      "2025-10-20 18:57:55,428 INFO sqlalchemy.engine.Engine ROLLBACK\n"
     ]
    },
    {
     "data": {
      "text/plain": [
       "58"
      ]
     },
     "execution_count": 6,
     "metadata": {},
     "output_type": "execute_result"
    }
   ],
   "source": [
    "# Когда сложно выбрать, кто твой любимый пользователь... Эд или Венди 🤔\n",
    "from sqlalchemy import or_, and_\n",
    "from app.pdf_reports.models import ReportOrm, SalesReportOrm\n",
    "from app.pdf_reports.dao import ReportDAO, SalesReportDAO\n",
    "\n",
    "\n",
    "sales = SalesReportDAO.find_all_where(\n",
    "    and_(SalesReportOrm.period_from >= date(2024,11,7), SalesReportOrm.period_to <= date(2025, 7,5))\n",
    ")\n",
    "len(sales)"
   ]
  },
  {
   "cell_type": "code",
   "execution_count": 18,
   "id": "3653c860",
   "metadata": {},
   "outputs": [
    {
     "name": "stdout",
     "output_type": "stream",
     "text": [
      "{'user_id': 1, 'period_from': datetime.date(2025, 5, 17), 'period_to': datetime.date(2025, 6, 13), 'total_orders': 35, 'total_revenue': 214334.99, 'avg_order_value': 6123.86, 'top_product_name': 'Фитнес-браслет', 'top_product_sales': 126267.57, 'cancelled_orders': 7, 'successful_orders': 22, 'returned_orders': 3, 'payment_method_stats': {'card': 9483.8, 'cash': 100033.07, 'online': 104818.13}, 'category_breakdown': {'Умный дом': 32257.39, 'Транспорт': 99058.95, 'Аксессуары': 62790.96, 'Электроника': 20227.68}, 'sales_by_day': {'2025-05-17': 3257.98, '2025-05-18': 2073.91, '2025-05-19': 5573.31, '2025-05-20': 5986.89, '2025-05-21': 1786.8, '2025-05-22': 2895.23, '2025-05-23': 5919.63, '2025-05-24': 6576.6, '2025-05-25': 710.76, '2025-05-26': 2196.29, '2025-05-27': 2119.74, '2025-05-28': 3579.4, '2025-05-29': 148.41, '2025-05-30': 2124.37, '2025-05-31': 7113.31, '2025-06-01': 681.92, '2025-06-02': 4511.34, '2025-06-03': 6752.92, '2025-06-04': 2352.82, '2025-06-05': 5087.4, '2025-06-06': 4525.55, '2025-06-07': 6661.92, '2025-06-08': 2545.65, '2025-06-09': 3182.57, '2025-06-10': 7592.12, '2025-06-11': 566.43, '2025-06-12': 584.48, '2025-06-13': 5286.4}, 'comment': '11113131222312213122131111111111111', 'id': 1, 'created_at': datetime.datetime(2025, 10, 17, 14, 3, 20, 687973), 'updated_at': datetime.datetime(2025, 10, 20, 16, 56, 29, 589384)}\n"
     ]
    }
   ],
   "source": [
    "with session_factory() as session:\n",
    "    query = (\n",
    "        select(SalesReportOrm).filter_by(id=1)\n",
    "    )\n",
    "    instance = session.execute(query).scalar().to_dict()\n",
    "    print(instance)"
   ]
  },
  {
   "cell_type": "code",
   "execution_count": 17,
   "id": "268ea162",
   "metadata": {},
   "outputs": [],
   "source": [
    "with session_factory() as session:\n",
    "    query = (\n",
    "        update(SalesReportOrm).filter_by(id=1).values({'comment':11113131222312213122131111111111111})\n",
    "    )\n",
    "    session.execute(query)\n",
    "    session.commit()"
   ]
  },
  {
   "cell_type": "code",
   "execution_count": null,
   "id": "66fd3ab9",
   "metadata": {},
   "outputs": [],
   "source": []
  }
 ],
 "metadata": {
  "kernelspec": {
   "display_name": "Python 3",
   "language": "python",
   "name": "python3"
  },
  "language_info": {
   "codemirror_mode": {
    "name": "ipython",
    "version": 3
   },
   "file_extension": ".py",
   "mimetype": "text/x-python",
   "name": "python",
   "nbconvert_exporter": "python",
   "pygments_lexer": "ipython3",
   "version": "3.12.9"
  }
 },
 "nbformat": 4,
 "nbformat_minor": 5
}
