{
 "cells": [
  {
   "cell_type": "code",
   "execution_count": 1,
   "id": "f2044d0a",
   "metadata": {},
   "outputs": [
    {
     "name": "stdout",
     "output_type": "stream",
     "text": [
      "2025-08-04 14:42:50,751 INFO sqlalchemy.engine.Engine select pg_catalog.version()\n",
      "2025-08-04 14:42:50,753 INFO sqlalchemy.engine.Engine [raw sql] [SQL parameters hidden due to hide_parameters=True]\n",
      "2025-08-04 14:42:50,769 INFO sqlalchemy.engine.Engine select current_schema()\n",
      "2025-08-04 14:42:50,770 INFO sqlalchemy.engine.Engine [raw sql] [SQL parameters hidden due to hide_parameters=True]\n",
      "2025-08-04 14:42:50,773 INFO sqlalchemy.engine.Engine show standard_conforming_strings\n",
      "2025-08-04 14:42:50,774 INFO sqlalchemy.engine.Engine [raw sql] [SQL parameters hidden due to hide_parameters=True]\n",
      "2025-08-04 14:42:50,790 INFO sqlalchemy.engine.Engine BEGIN (implicit)\n",
      "2025-08-04 14:42:50,794 INFO sqlalchemy.engine.Engine SELECT sales_report.id, sales_report.user_id, sales_report.period_from, sales_report.period_to, sales_report.total_orders, sales_report.total_revenue, sales_report.avg_order_value, sales_report.top_product_name, sales_report.top_product_sales, sales_report.cancelled_orders, sales_report.successful_orders, sales_report.returned_orders, sales_report.payment_method_stats, sales_report.category_breakdown, sales_report.sales_by_day, sales_report.comment, sales_report.created_at \n",
      "FROM sales_report \n",
      "WHERE sales_report.id = %(id_1)s::INTEGER\n",
      "2025-08-04 14:42:50,795 INFO sqlalchemy.engine.Engine [generated in 0.00068s] [SQL parameters hidden due to hide_parameters=True]\n",
      "====================================================================================================\n",
      "{'SalesReportOrm': <Object: SalesReportOrm | Attributes: id=1, user_id=1, period_from=datetime.date(2024, 8, 10), period_to=datetime.date(2024, 9, 5), total_orders=27, total_revenue=106274.17, avg_order_value=3936.08, top_product_name='Фитнес-браслет', top_product_sales=101338.89, cancelled_orders=3, successful_orders=2, returned_orders=1, payment_method_stats={'card': 27107.94, 'cash': 42304.91, 'online': 36861.32}, category_breakdown={'Умный дом': 24326.77, 'Транспорт': 6976.05, 'Аксессуары': 70902.86, 'Электроника': 4068.49}, sales_by_day={'2024-08-10': 2551.14, '2024-08-11': 1125.71, '2024-08-12': 2818.17, '2024-08-13': 2266.28, '2024-08-14': 233.04, '2024-08-15': 2595.46, '2024-08-16': 144.7, '2024-08-17': 2884.21, '2024-08-18': 506.94, '2024-08-19': 2512.06, '2024-08-20': 2983.49, '2024-08-21': 3110.8, '2024-08-22': 528.46, '2024-08-23': 1876.38, '2024-08-24': 3254.12, '2024-08-25': 789.03, '2024-08-26': 1625.35, '2024-08-27': 289.81, '2024-08-28': 2546.45, '2024-08-29': 3800.13, '2024-08-30': 441.75, '2024-08-31': 1437.17, '2024-09-01': 3476.57, '2024-09-02': 3920.6, '2024-09-03': 1683.88, '2024-09-04': 3372.93, '2024-09-05': 994.63}, comment='Проверить не требуется', created_at=datetime.datetime(2025, 7, 25, 15, 19, 55, 384700)>}\n",
      "====================================================================================================\n",
      "2025-08-04 14:42:50,805 INFO sqlalchemy.engine.Engine ROLLBACK\n"
     ]
    }
   ],
   "source": [
    "from app.services.utils import *\n",
    "\n",
    "\n",
    "with session_factory() as session:\n",
    "    query = select(SalesReportOrm).filter_by(id=1)\n",
    "    # r = session.get(SalesReportOrm, ident=1)  # Способ получения сущности, работает только для одной записи\n",
    "    r = session.execute(query).mappings().first()\n",
    "    # Метод scalars() используется, когда мы ожидаем получить одну колонку результата, а не несколько полей. \n",
    "    # Например, когда мы запрашиваем всю модель (в нашем случае SalesReportOrm) или одно конкретное поле (например, SalesReportOrm).\n",
    "    # r = session.execute(query).scalar()  # работает как scalars, только он вернет первую сущность как first()\n",
    "    print('='*100)\n",
    "    print(r)\n",
    "    print('='*100)"
   ]
  },
  {
   "cell_type": "code",
   "execution_count": 2,
   "id": "b52fba72",
   "metadata": {},
   "outputs": [
    {
     "name": "stdout",
     "output_type": "stream",
     "text": [
      "2025-08-04 14:42:56,901 INFO sqlalchemy.engine.Engine BEGIN (implicit)\n",
      "2025-08-04 14:42:56,903 INFO sqlalchemy.engine.Engine INSERT INTO \"user\" (name) VALUES (%(name)s::VARCHAR)\n",
      "2025-08-04 14:42:56,904 INFO sqlalchemy.engine.Engine [generated in 0.00067s] [SQL parameters hidden due to hide_parameters=True]\n",
      "2025-08-04 14:42:56,909 INFO sqlalchemy.engine.Engine COMMIT\n",
      "====================================================================================================\n",
      "<sqlalchemy.engine.result.IteratorResult object at 0x0000018563DC6310>\n",
      "====================================================================================================\n"
     ]
    }
   ],
   "source": [
    "from app.services.utils import *\n",
    "\n",
    "\n",
    "with session_factory() as session:\n",
    "    query = insert(UserOrm)\n",
    "    # r = session.get(SalesReportOrm, ident=1)  # Способ получения сущности, работает только для одной записи\n",
    "    r = session.execute(\n",
    "        query, [UserOrm(name='Пользователь1').to_dict(), UserOrm(name='Пользователь2').to_dict(), UserOrm(name='Пользователь3').to_dict()]\n",
    "    )\n",
    "    session.commit()\n",
    "    # Метод scalars() используется, когда мы ожидаем получить одну колонку результата, а не несколько полей. \n",
    "    # Например, когда мы запрашиваем всю модель (в нашем случае SalesReportOrm) или одно конкретное поле (например, SalesReportOrm).\n",
    "    # r = session.execute(query).scalar()  # работает как scalars, только он вернет первую сущность как first()\n",
    "    print('='*100)\n",
    "    print(r)\n",
    "    print('='*100)"
   ]
  },
  {
   "cell_type": "code",
   "execution_count": 10,
   "id": "2692b33b",
   "metadata": {},
   "outputs": [
    {
     "name": "stdout",
     "output_type": "stream",
     "text": [
      "2025-07-30 22:39:49,152 INFO sqlalchemy.engine.Engine BEGIN (implicit)\n",
      "2025-07-30 22:39:49,155 INFO sqlalchemy.engine.Engine INSERT INTO \"user\" (name, fullname) VALUES (%(name__0)s::VARCHAR, %(fullname__0)s::VARCHAR), (%(name__1)s::VARCHAR, %(fullname__1)s::VARCHAR), (%(name__2)s::VARCHAR, %(fullname__2)s::VARCHAR), (%(name__3)s::VARCHAR, %(fullname__3)s::VARCHAR), (%(name__4)s::VARCHAR, %(fullname__4)s::VARCHAR) RETURNING \"user\".id, \"user\".name, \"user\".fullname, \"user\".created_at, \"user\".updated_at\n",
      "2025-07-30 22:39:49,157 INFO sqlalchemy.engine.Engine [cached since 42.2s ago (insertmanyvalues) 1/1 (unordered)] [SQL parameters hidden due to hide_parameters=True]\n",
      "2025-07-30 22:39:49,161 INFO sqlalchemy.engine.Engine COMMIT\n",
      "[User(id=20, name='spongebob', fullname='Spongebob Squarepants'), User(id=21, name='sandy', fullname='Sandy Cheeks'), User(id=22, name='patrick', fullname='Patrick Star'), User(id=23, name='squidward', fullname='Squidward Tentacles'), User(id=24, name='ehkrabs', fullname='Eugene H. Krabs')]\n"
     ]
    }
   ],
   "source": [
    "from app.services.utils import *\n",
    "# from sqlalchemy import \n",
    "\n",
    "with session_factory() as session:\n",
    "    users = session.scalars(\n",
    "        insert(UserOrm).returning(UserOrm),\n",
    "        [\n",
    "            {\"name\": \"spongebob\", \"fullname\": \"Spongebob Squarepants\"},\n",
    "            {\"name\": \"sandy\", \"fullname\": \"Sandy Cheeks\"},\n",
    "            {\"name\": \"patrick\", \"fullname\": \"Patrick Star\"},\n",
    "            {\"name\": \"squidward\", \"fullname\": \"Squidward Tentacles\"},\n",
    "            {\"name\": \"ehkrabs\", \"fullname\": \"Eugene H. Krabs\"},\n",
    "        ],\n",
    "    )\n",
    "    session.commit()\n",
    "    print(users.all())"
   ]
  }
 ],
 "metadata": {
  "kernelspec": {
   "display_name": "Python 3",
   "language": "python",
   "name": "python3"
  },
  "language_info": {
   "codemirror_mode": {
    "name": "ipython",
    "version": 3
   },
   "file_extension": ".py",
   "mimetype": "text/x-python",
   "name": "python",
   "nbconvert_exporter": "python",
   "pygments_lexer": "ipython3",
   "version": "3.12.9"
  }
 },
 "nbformat": 4,
 "nbformat_minor": 5
}
