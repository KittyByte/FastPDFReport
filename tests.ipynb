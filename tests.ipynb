{
 "cells": [
  {
   "cell_type": "code",
   "execution_count": 18,
   "id": "8e0728ec",
   "metadata": {},
   "outputs": [],
   "source": [
    "from sqlalchemy import select, update, and_, cast, func, Integer, insert\n",
    "from app.services.utils import *"
   ]
  },
  {
   "cell_type": "code",
   "execution_count": null,
   "id": "f2044d0a",
   "metadata": {},
   "outputs": [
    {
     "name": "stdout",
     "output_type": "stream",
     "text": [
      "2025-10-02 13:57:24,030 INFO sqlalchemy.engine.Engine BEGIN (implicit)\n",
      "2025-10-02 13:57:24,031 INFO sqlalchemy.engine.Engine SELECT sales_report.id, sales_report.user_id, sales_report.period_from, sales_report.period_to, sales_report.total_orders, sales_report.total_revenue, sales_report.avg_order_value, sales_report.top_product_name, sales_report.top_product_sales, sales_report.cancelled_orders, sales_report.successful_orders, sales_report.returned_orders, sales_report.payment_method_stats, sales_report.category_breakdown, sales_report.sales_by_day, sales_report.comment, sales_report.created_at \n",
      "FROM sales_report \n",
      "WHERE sales_report.id = %(id_1)s::INTEGER\n",
      "2025-10-02 13:57:24,032 INFO sqlalchemy.engine.Engine [cached since 3054s ago] [SQL parameters hidden due to hide_parameters=True]\n",
      "====================================================================================================\n",
      "{'id': 1, 'user_id': 1, 'period_from': datetime.date(2024, 12, 31), 'period_to': datetime.date(2025, 1, 5), 'total_orders': 5, 'total_revenue': 25264.8, 'avg_order_value': 5052.96, 'top_product_name': 'Умная колонка', 'top_product_sales': 5242.18, 'cancelled_orders': 1, 'successful_orders': 2, 'returned_orders': 0, 'payment_method_stats': {'card': 6603.76, 'cash': 7932.3, 'online': 10728.74}, 'category_breakdown': {'Умный дом': 643.49, 'Транспорт': 9979.24, 'Аксессуары': 5174.87, 'Электроника': 9467.2}, 'sales_by_day': {'2024-12-31': 1752.72, '2025-01-01': 3577.64, '2025-01-02': 4012.99, '2025-01-03': 2694.2, '2025-01-04': 2166.04, '2025-01-05': 2774.77}, 'comment': 'Проверить не требуется', 'created_at': datetime.datetime(2025, 9, 4, 19, 42, 49, 966492)}\n",
      "====================================================================================================\n",
      "2025-10-02 13:57:24,033 INFO sqlalchemy.engine.Engine ROLLBACK\n"
     ]
    }
   ],
   "source": [
    "with session_factory() as session:\n",
    "    query = select(SalesReportOrm.__table__.columns).filter_by(id=1)\n",
    "    # r = session.get(SalesReportOrm, ident=1)  # Способ получения сущности, работает только для одной записи\n",
    "    r = session.execute(query).mappings().first()\n",
    "    # mappings делает сопоставление поля - значение, без него возвращается просто кортеж значений\n",
    "    # Метод scalars() используется, когда мы ожидаем получить одну колонку результата, а не несколько полей. \n",
    "    # Например, когда мы запрашиваем всю модель (в нашем случае SalesReportOrm) или одно конкретное поле (например, SalesReportOrm).\n",
    "\n",
    "    # r = session.execute(query).scalar()  \n",
    "    # Метод scalar() используется, когда мы ожидаем одну запись и одно поле в результате запроса. Если запрос вернет больше одной строки, метод выбросит исключение.\n",
    "    print('='*100)\n",
    "    print(r)\n",
    "    print('='*100)"
   ]
  },
  {
   "cell_type": "code",
   "execution_count": null,
   "id": "e4260cea",
   "metadata": {},
   "outputs": [
    {
     "name": "stdout",
     "output_type": "stream",
     "text": [
      "2025-10-02 14:09:34,821 INFO sqlalchemy.engine.Engine BEGIN (implicit)\n",
      "2025-10-02 14:09:34,822 INFO sqlalchemy.engine.Engine INSERT INTO \"user\" (username, password, disabled) VALUES (%(username__0)s::VARCHAR, %(password__0)s::VARCHAR, %(disabled__0)s), (%(username__1)s::VARCHAR, %(password__1)s::VARCHAR, %(disabled__1)s), (%(username__2)s::VARCHAR, %(password__2)s::VARCHAR, %(disabled__2)s) RETURNING \"user\".id\n",
      "2025-10-02 14:09:34,823 INFO sqlalchemy.engine.Engine [generated in 0.00012s (insertmanyvalues) 1/1 (unordered)] [SQL parameters hidden due to hide_parameters=True]\n",
      "2025-10-02 14:09:34,826 INFO sqlalchemy.engine.Engine COMMIT\n",
      "====================================================================================================\n",
      "<sqlalchemy.engine.result.ChunkedIteratorResult object at 0x000002058BF5B450>\n",
      "====================================================================================================\n"
     ]
    }
   ],
   "source": [
    "import random\n",
    "\n",
    "with session_factory() as session:\n",
    "    query = insert(UserOrm).returning(UserOrm.id)\n",
    "    # r = session.get(SalesReportOrm, ident=1)  # Способ получения сущности, работает только для одной записи\n",
    "    r = session.execute(\n",
    "        query, [\n",
    "            UserOrm(username=f\"spongebob{round(random.random(), 3)}\", password='acuna_matata').to_dict(),\n",
    "            UserOrm(username=f\"spongebob{round(random.random(), 3)}\", password='acuna_matata').to_dict(),\n",
    "            UserOrm(username=f\"spongebob{round(random.random(), 3)}\", password='acuna_matata').to_dict()]\n",
    "    )\n",
    "    session.commit()\n",
    "    # Метод scalars() используется, когда мы ожидаем получить одну колонку результата, а не несколько полей. \n",
    "    # Например, когда мы запрашиваем всю модель (в нашем случае SalesReportOrm) или одно конкретное поле (например, только имена пользователей).\n",
    "    # r = session.execute(query).scalar()  # работает как scalars, только он вернет первую сущность как first()\n",
    "    print('='*100)\n",
    "    print(r.yield_per())\n",
    "    print('='*100)"
   ]
  },
  {
   "cell_type": "code",
   "execution_count": null,
   "id": "2692b33b",
   "metadata": {},
   "outputs": [
    {
     "name": "stdout",
     "output_type": "stream",
     "text": [
      "2025-07-30 22:39:49,152 INFO sqlalchemy.engine.Engine BEGIN (implicit)\n",
      "2025-07-30 22:39:49,155 INFO sqlalchemy.engine.Engine INSERT INTO \"user\" (name, fullname) VALUES (%(name__0)s::VARCHAR, %(fullname__0)s::VARCHAR), (%(name__1)s::VARCHAR, %(fullname__1)s::VARCHAR), (%(name__2)s::VARCHAR, %(fullname__2)s::VARCHAR), (%(name__3)s::VARCHAR, %(fullname__3)s::VARCHAR), (%(name__4)s::VARCHAR, %(fullname__4)s::VARCHAR) RETURNING \"user\".id, \"user\".name, \"user\".fullname, \"user\".created_at, \"user\".updated_at\n",
      "2025-07-30 22:39:49,157 INFO sqlalchemy.engine.Engine [cached since 42.2s ago (insertmanyvalues) 1/1 (unordered)] [SQL parameters hidden due to hide_parameters=True]\n",
      "2025-07-30 22:39:49,161 INFO sqlalchemy.engine.Engine COMMIT\n",
      "[User(id=20, name='spongebob', fullname='Spongebob Squarepants'), User(id=21, name='sandy', fullname='Sandy Cheeks'), User(id=22, name='patrick', fullname='Patrick Star'), User(id=23, name='squidward', fullname='Squidward Tentacles'), User(id=24, name='ehkrabs', fullname='Eugene H. Krabs')]\n"
     ]
    }
   ],
   "source": [
    "with session_factory() as session:\n",
    "    users = session.scalars(\n",
    "        insert(UserOrm).returning(UserOrm),\n",
    "        [\n",
    "            {\"name\": \"spongebob\", \"fullname\": \"Spongebob Squarepants\"},\n",
    "            {\"name\": \"sandy\", \"fullname\": \"Sandy Cheeks\"},\n",
    "            {\"name\": \"patrick\", \"fullname\": \"Patrick Star\"},\n",
    "            {\"name\": \"squidward\", \"fullname\": \"Squidward Tentacles\"},\n",
    "            {\"name\": \"ehkrabs\", \"fullname\": \"Eugene H. Krabs\"},\n",
    "        ],\n",
    "    )\n",
    "    session.commit()\n",
    "    print(users.all())"
   ]
  },
  {
   "cell_type": "code",
   "execution_count": null,
   "id": "e7f8b187",
   "metadata": {},
   "outputs": [],
   "source": [
    "def education_examples():\n",
    "    with session_factory() as session:\n",
    "        user = session.get(UserOrm, 3)  # При обновлении через get будет 2 запроса, на получение и обновление\n",
    "        user.name=random.choice(['Бобер', 'Цыпа', 'Голубио'])\n",
    "        user.fullname=random.choice(['Бобер', 'Цыпа', 'Голубио'])\n",
    "        # session.flush()  сохраняет изменения в бд, но не завершает сессию как commit\n",
    "        session.expire(user)  # сброс незакоммиченных изменений объекта user\n",
    "        session.expire_all()  # сброс всех незакоммиченных изменений в сессии\n",
    "        print(user.fullname)  # после expire\\expire_all при попытке доступа к полям объекта будет выполнен новый запрос к БД\n",
    "        session.refresh(user)  # делает запрос в бд на получение актуальных значений"
   ]
  },
  {
   "cell_type": "code",
   "execution_count": null,
   "id": "935443b4",
   "metadata": {},
   "outputs": [
    {
     "name": "stdout",
     "output_type": "stream",
     "text": [
      "====================================================================================================\n",
      "2025-08-20 14:46:21,086 INFO sqlalchemy.engine.Engine BEGIN (implicit)\n",
      "2025-08-20 14:46:21,087 INFO sqlalchemy.engine.Engine SELECT \"user\".id, \"user\".username, \"user\".password, \"user\".fullname, \"user\".email, \"user\".disabled, \"user\".created_at, \"user\".updated_at \n",
      "FROM \"user\" \n",
      "WHERE \"user\".id = %(id_1)s::INTEGER\n",
      "2025-08-20 14:46:21,090 INFO sqlalchemy.engine.Engine [cached since 2272s ago] [SQL parameters hidden due to hide_parameters=True]\n",
      "2025-08-20 14:46:21,092 INFO sqlalchemy.engine.Engine ROLLBACK\n",
      "username='spongebob0.077' fullname='Spongebob Squarepants' email=None disabled=False hashed_password='$2b$12$gwGmvdhGNO2FW1pqqSQpOOgQSmX5jHpGM2Zv8TeK4shy9kFm0V8ui'\n"
     ]
    },
    {
     "data": {
      "text/plain": [
       "True"
      ]
     },
     "execution_count": 3,
     "metadata": {},
     "output_type": "execute_result"
    }
   ],
   "source": [
    "from app.users.dao import UserDAO\n",
    "from app.users.schemas import UserInDB\n",
    "import random\n",
    "\n",
    "# id: dict = UserDAO.create(username=f\"spongebob{round(random.random(), 3)}\", fullname=\"Spongebob Squarepants\", password='acuna_matata')\n",
    "# UserDAO.create_bulk([{'username': \"spongebo221b\", 'fullname':\"Spongebob Squarepants\"}, {'username': \"spong11ebo1b\", 'fullname':\"Spongebob Squarepants\"}])\n",
    "# UserDAO.delete(id=69)\n",
    "print('='*100)\n",
    "user = UserDAO.find_one_or_none(id=3)\n",
    "print(UserInDB(**user))\n",
    "UserDAO.is_valid_password('acuna_matata', user['password'])"
   ]
  },
  {
   "cell_type": "code",
   "execution_count": null,
   "id": "8ac46959",
   "metadata": {},
   "outputs": [
    {
     "name": "stdout",
     "output_type": "stream",
     "text": [
      "b'$2b$12$zwb/ZwhPiwc1Fayz3KtcMuPpxjSmN3TmtlU5MjspCroFSH2sdrRxC'\n",
      "It Matches!\n"
     ]
    }
   ],
   "source": [
    "import bcrypt\n",
    "password = '$2b$12$gwGmvdhGNO2FW1pqqSQpOOgQSmX5jHpGM2Zv8TeK4shy9kFm0V8ui'.encode()\n",
    "# Hash a password for the first time, with a randomly-generated salt\n",
    "hashed = bcrypt.hashpw(password, bcrypt.gensalt())\n",
    "print(hashed)\n",
    "# Check that an unhashed password matches one that has previously been\n",
    "# hashed\n",
    "if bcrypt.checkpw(password, hashed):\n",
    "    print(\"It Matches!\")\n",
    "else:\n",
    "    print(\"It Does not Match :(\")"
   ]
  },
  {
   "cell_type": "code",
   "execution_count": null,
   "id": "cbc48bc6",
   "metadata": {},
   "outputs": [
    {
     "name": "stdout",
     "output_type": "stream",
     "text": [
      "2025-09-14 21:42:46,995 INFO sqlalchemy.engine.Engine BEGIN (implicit)\n",
      "2025-09-14 21:42:46,999 INFO sqlalchemy.engine.Engine INSERT INTO \"user\" (username, password, fullname, disabled) VALUES (%(username_m0)s::VARCHAR, %(password_m0)s::VARCHAR, %(fullname_m0)s::VARCHAR, %(disabled)s), (%(username_m1)s::VARCHAR, %(password_m1)s::VARCHAR, %(fullname_m1)s::VARCHAR, %(disabled_m1)s), (%(username_m2)s::VARCHAR, %(password_m2)s::VARCHAR, %(fullname_m2)s::VARCHAR, %(disabled_m2)s), (%(username_m3)s::VARCHAR, %(password_m3)s::VARCHAR, %(fullname_m3)s::VARCHAR, %(disabled_m3)s) RETURNING \"user\".id\n",
      "2025-09-14 21:42:47,000 INFO sqlalchemy.engine.Engine [no key 0.00102s] [SQL parameters hidden due to hide_parameters=True]\n",
      "2025-09-14 21:42:47,003 INFO sqlalchemy.engine.Engine COMMIT\n",
      "====================================================================================================\n",
      "[14, 15, 16, 17]\n",
      "2025-09-14 21:42:47,013 INFO sqlalchemy.engine.Engine BEGIN (implicit)\n",
      "2025-09-14 21:42:47,015 INFO sqlalchemy.engine.Engine SELECT \"user\".id, \"user\".username, \"user\".password, \"user\".fullname, \"user\".email, \"user\".disabled, \"user\".created_at, \"user\".updated_at \n",
      "FROM \"user\" \n",
      "WHERE \"user\".id = %(id_1)s::INTEGER\n",
      "2025-09-14 21:42:47,015 INFO sqlalchemy.engine.Engine [cached since 62.21s ago] [SQL parameters hidden due to hide_parameters=True]\n",
      "2025-09-14 21:42:47,018 INFO sqlalchemy.engine.Engine ROLLBACK\n",
      "====================================================================================================\n",
      "$2b$12$gXH.yapFAfffdCmoNuNFpuacZHJdi2Ntx9XGglV.2za3jI7jKQh.q\n",
      "True\n",
      "2025-09-14 21:42:47,266 INFO sqlalchemy.engine.Engine BEGIN (implicit)\n",
      "2025-09-14 21:42:47,267 INFO sqlalchemy.engine.Engine SELECT \"user\".id, \"user\".username, \"user\".password, \"user\".fullname, \"user\".email, \"user\".disabled, \"user\".created_at, \"user\".updated_at \n",
      "FROM \"user\" \n",
      "WHERE \"user\".id = %(id_1)s::INTEGER\n",
      "2025-09-14 21:42:47,269 INFO sqlalchemy.engine.Engine [cached since 62.46s ago] [SQL parameters hidden due to hide_parameters=True]\n",
      "2025-09-14 21:42:47,271 INFO sqlalchemy.engine.Engine ROLLBACK\n",
      "====================================================================================================\n",
      "$2b$12$AOb/0Jz1y3Mu3zFmoTrsD.DZ3Twa9zWqsHGP.Bge/hU/vMu4/ujTe\n",
      "True\n",
      "2025-09-14 21:42:47,519 INFO sqlalchemy.engine.Engine BEGIN (implicit)\n",
      "2025-09-14 21:42:47,521 INFO sqlalchemy.engine.Engine SELECT \"user\".id, \"user\".username, \"user\".password, \"user\".fullname, \"user\".email, \"user\".disabled, \"user\".created_at, \"user\".updated_at \n",
      "FROM \"user\" \n",
      "WHERE \"user\".id = %(id_1)s::INTEGER\n",
      "2025-09-14 21:42:47,522 INFO sqlalchemy.engine.Engine [cached since 62.72s ago] [SQL parameters hidden due to hide_parameters=True]\n",
      "2025-09-14 21:42:47,524 INFO sqlalchemy.engine.Engine ROLLBACK\n",
      "====================================================================================================\n",
      "$2b$12$gAym8fD2JwyzjffGwH0v7e.GkdKKVg8JrAzoWG2QKEFRfR.FZepCy\n",
      "True\n",
      "2025-09-14 21:42:47,771 INFO sqlalchemy.engine.Engine BEGIN (implicit)\n",
      "2025-09-14 21:42:47,772 INFO sqlalchemy.engine.Engine SELECT \"user\".id, \"user\".username, \"user\".password, \"user\".fullname, \"user\".email, \"user\".disabled, \"user\".created_at, \"user\".updated_at \n",
      "FROM \"user\" \n",
      "WHERE \"user\".id = %(id_1)s::INTEGER\n",
      "2025-09-14 21:42:47,772 INFO sqlalchemy.engine.Engine [cached since 62.97s ago] [SQL parameters hidden due to hide_parameters=True]\n",
      "2025-09-14 21:42:47,774 INFO sqlalchemy.engine.Engine ROLLBACK\n",
      "====================================================================================================\n",
      "$2b$12$LrvLcZ6bI83Syt3euuMZqOy2vAk4.E7GIXEQPHeh0SjYrBOPvzVz6\n",
      "True\n"
     ]
    }
   ],
   "source": [
    "import random\n",
    "from app.users.dao import UserDAO\n",
    "\n",
    "\n",
    "ids: dict = UserDAO.create_bulk([\n",
    "    {'username': f\"spongebob{round(random.random(), 3)}\", 'fullname': \"Spongebob Squarepants\", 'password': 'acuna_matata'},\n",
    "    {'username': f\"spongebob{round(random.random(), 3)}\", 'fullname': \"Spongebob Squarepants\", 'password': 'acuna_matata'},\n",
    "    {'username': f\"spongebob{round(random.random(), 3)}\", 'fullname': \"Spongebob Squarepants\", 'password': 'acuna_matata'},\n",
    "    {'username': f\"spongebob{round(random.random(), 3)}\", 'fullname': \"Spongebob Squarepants\", 'password': 'acuna_matata'},\n",
    "])\n",
    "print('='*100)\n",
    "print(ids)\n",
    "for id in ids:\n",
    "    user = UserDAO.find_one_or_none(id=id)\n",
    "    user_pass = user.hashed_password\n",
    "    print('='*100)\n",
    "    print(user_pass)\n",
    "    print(UserDAO.is_valid_password('acuna_matata', user_pass))"
   ]
  },
  {
   "cell_type": "code",
   "execution_count": null,
   "id": "8312f1b7",
   "metadata": {},
   "outputs": [
    {
     "name": "stdout",
     "output_type": "stream",
     "text": [
      "132131230\n"
     ]
    },
    {
     "ename": "AttributeError",
     "evalue": "'str' object has no attribute 'hashed_password'",
     "output_type": "error",
     "traceback": [
      "\u001b[31m---------------------------------------------------------------------------\u001b[39m",
      "\u001b[31mAttributeError\u001b[39m                            Traceback (most recent call last)",
      "\u001b[36mCell\u001b[39m\u001b[36m \u001b[39m\u001b[32mIn[7]\u001b[39m\u001b[32m, line 30\u001b[39m\n\u001b[32m     26\u001b[39m     \u001b[38;5;28;01mif\u001b[39;00m user \u001b[38;5;129;01mand\u001b[39;00m verify_password(\u001b[33m'\u001b[39m\u001b[33mpassword\u001b[39m\u001b[33m'\u001b[39m, user.hashed_password):\n\u001b[32m     27\u001b[39m         \u001b[38;5;28;01mreturn\u001b[39;00m user\n\u001b[32m---> \u001b[39m\u001b[32m30\u001b[39m \u001b[43mauthenticate_user\u001b[49m\u001b[43m(\u001b[49m\u001b[33;43m'\u001b[39;49m\u001b[33;43m132131230\u001b[39;49m\u001b[33;43m'\u001b[39;49m\u001b[43m)\u001b[49m\n",
      "\u001b[36mCell\u001b[39m\u001b[36m \u001b[39m\u001b[32mIn[7]\u001b[39m\u001b[32m, line 26\u001b[39m, in \u001b[36mauthenticate_user\u001b[39m\u001b[34m(user)\u001b[39m\n\u001b[32m     24\u001b[39m \u001b[38;5;28;01mdef\u001b[39;00m\u001b[38;5;250m \u001b[39m\u001b[34mauthenticate_user\u001b[39m(user: Annotated[UserInDB, Depends(get_user)]) -> UserInDB | \u001b[38;5;28;01mNone\u001b[39;00m:\n\u001b[32m     25\u001b[39m     \u001b[38;5;28mprint\u001b[39m(user)\n\u001b[32m---> \u001b[39m\u001b[32m26\u001b[39m     \u001b[38;5;28;01mif\u001b[39;00m user \u001b[38;5;129;01mand\u001b[39;00m verify_password(\u001b[33m'\u001b[39m\u001b[33mpassword\u001b[39m\u001b[33m'\u001b[39m, \u001b[43muser\u001b[49m\u001b[43m.\u001b[49m\u001b[43mhashed_password\u001b[49m):\n\u001b[32m     27\u001b[39m         \u001b[38;5;28;01mreturn\u001b[39;00m user\n",
      "\u001b[31mAttributeError\u001b[39m: 'str' object has no attribute 'hashed_password'"
     ]
    }
   ],
   "source": [
    "from app.users.schemas import UserInDB\n",
    "from fastapi import Depends\n",
    "from typing import Annotated\n",
    "\n",
    "\n",
    "ALGORITHM = 'HS256'\n",
    "ACCESS_TOKEN_EXPIRE_MINUTES = 30\n",
    "\n",
    "\n",
    "def verify_password(password: str, hashed_password: str) -> bool:\n",
    "    return True\n",
    "\n",
    "\n",
    "def get_user(username: str) -> UserInDB | None:\n",
    "    return UserInDB(\n",
    "        username=username,\n",
    "        fullname='sfdds',\n",
    "        email='1123123',\n",
    "        disabled=False,\n",
    "        hashed_password='sdfdsfsfsdfsf'\n",
    "    )\n",
    "\n",
    "\n",
    "def authenticate_user(user: Annotated[UserInDB, Depends(get_user)]) -> UserInDB | None:\n",
    "    print(user)\n",
    "    if user and verify_password('password', user.hashed_password):\n",
    "        return user\n",
    "\n",
    "\n",
    "authenticate_user('132131230')"
   ]
  },
  {
   "cell_type": "code",
   "execution_count": null,
   "id": "f5654f11",
   "metadata": {},
   "outputs": [],
   "source": []
  }
 ],
 "metadata": {
  "kernelspec": {
   "display_name": "Python 3",
   "language": "python",
   "name": "python3"
  },
  "language_info": {
   "codemirror_mode": {
    "name": "ipython",
    "version": 3
   },
   "file_extension": ".py",
   "mimetype": "text/x-python",
   "name": "python",
   "nbconvert_exporter": "python",
   "pygments_lexer": "ipython3",
   "version": "3.12.9"
  }
 },
 "nbformat": 4,
 "nbformat_minor": 5
}
