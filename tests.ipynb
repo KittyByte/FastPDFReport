{
 "cells": [
  {
   "cell_type": "code",
   "execution_count": 2,
   "id": "8e0728ec",
   "metadata": {},
   "outputs": [],
   "source": [
    "from sqlalchemy import select, update, and_, cast, func, Integer, insert\n",
    "from app.services.utils import *"
   ]
  },
  {
   "cell_type": "code",
   "execution_count": 7,
   "id": "f2044d0a",
   "metadata": {},
   "outputs": [
    {
     "name": "stdout",
     "output_type": "stream",
     "text": [
      "2025-08-04 15:12:05,097 INFO sqlalchemy.engine.Engine BEGIN (implicit)\n",
      "2025-08-04 15:12:05,097 INFO sqlalchemy.engine.Engine SELECT sales_report.id, sales_report.user_id, sales_report.period_from, sales_report.period_to, sales_report.total_orders, sales_report.total_revenue, sales_report.avg_order_value, sales_report.top_product_name, sales_report.top_product_sales, sales_report.cancelled_orders, sales_report.successful_orders, sales_report.returned_orders, sales_report.payment_method_stats, sales_report.category_breakdown, sales_report.sales_by_day, sales_report.comment, sales_report.created_at \n",
      "FROM sales_report \n",
      "WHERE sales_report.id = %(id_1)s::INTEGER\n",
      "2025-08-04 15:12:05,098 INFO sqlalchemy.engine.Engine [cached since 818.6s ago] [SQL parameters hidden due to hide_parameters=True]\n",
      "====================================================================================================\n",
      "{'id': 1, 'user_id': 1, 'period_from': datetime.date(2024, 8, 10), 'period_to': datetime.date(2024, 9, 5), 'total_orders': 27, 'total_revenue': 106274.17, 'avg_order_value': 3936.08, 'top_product_name': 'Фитнес-браслет', 'top_product_sales': 101338.89, 'cancelled_orders': 3, 'successful_orders': 2, 'returned_orders': 1, 'payment_method_stats': {'card': 27107.94, 'cash': 42304.91, 'online': 36861.32}, 'category_breakdown': {'Умный дом': 24326.77, 'Транспорт': 6976.05, 'Аксессуары': 70902.86, 'Электроника': 4068.49}, 'sales_by_day': {'2024-08-10': 2551.14, '2024-08-11': 1125.71, '2024-08-12': 2818.17, '2024-08-13': 2266.28, '2024-08-14': 233.04, '2024-08-15': 2595.46, '2024-08-16': 144.7, '2024-08-17': 2884.21, '2024-08-18': 506.94, '2024-08-19': 2512.06, '2024-08-20': 2983.49, '2024-08-21': 3110.8, '2024-08-22': 528.46, '2024-08-23': 1876.38, '2024-08-24': 3254.12, '2024-08-25': 789.03, '2024-08-26': 1625.35, '2024-08-27': 289.81, '2024-08-28': 2546.45, '2024-08-29': 3800.13, '2024-08-30': 441.75, '2024-08-31': 1437.17, '2024-09-01': 3476.57, '2024-09-02': 3920.6, '2024-09-03': 1683.88, '2024-09-04': 3372.93, '2024-09-05': 994.63}, 'comment': 'Проверить не требуется', 'created_at': datetime.datetime(2025, 7, 25, 15, 19, 55, 384700)}\n",
      "====================================================================================================\n",
      "2025-08-04 15:12:05,100 INFO sqlalchemy.engine.Engine ROLLBACK\n"
     ]
    }
   ],
   "source": [
    "with session_factory() as session:\n",
    "    query = select(SalesReportOrm.__table__.columns).filter_by(id=1)\n",
    "    # r = session.get(SalesReportOrm, ident=1)  # Способ получения сущности, работает только для одной записи\n",
    "    r = session.execute(query).mappings().first()\n",
    "    # Метод scalars() используется, когда мы ожидаем получить одну колонку результата, а не несколько полей. \n",
    "    # Например, когда мы запрашиваем всю модель (в нашем случае SalesReportOrm) или одно конкретное поле (например, SalesReportOrm).\n",
    "    # r = session.execute(query).scalar()  # работает как scalars, только он вернет первую сущность как first()\n",
    "    print('='*100)\n",
    "    print(r)\n",
    "    print('='*100)"
   ]
  },
  {
   "cell_type": "code",
   "execution_count": null,
   "id": "e4260cea",
   "metadata": {},
   "outputs": [],
   "source": [
    "with session_factory() as session:\n",
    "    query = insert(UserOrm)\n",
    "    # r = session.get(SalesReportOrm, ident=1)  # Способ получения сущности, работает только для одной записи\n",
    "    r = session.execute(\n",
    "        query, [UserOrm(name='Пользователь1').to_dict(), UserOrm(name='Пользователь2').to_dict(), UserOrm(name='Пользователь3').to_dict()]\n",
    "    )\n",
    "    session.commit()\n",
    "    # Метод scalars() используется, когда мы ожидаем получить одну колонку результата, а не несколько полей. \n",
    "    # Например, когда мы запрашиваем всю модель (в нашем случае SalesReportOrm) или одно конкретное поле (например, SalesReportOrm).\n",
    "    # r = session.execute(query).scalar()  # работает как scalars, только он вернет первую сущность как first()\n",
    "    print('='*100)\n",
    "    print(r)\n",
    "    print('='*100)"
   ]
  },
  {
   "cell_type": "code",
   "execution_count": null,
   "id": "2692b33b",
   "metadata": {},
   "outputs": [
    {
     "name": "stdout",
     "output_type": "stream",
     "text": [
      "2025-07-30 22:39:49,152 INFO sqlalchemy.engine.Engine BEGIN (implicit)\n",
      "2025-07-30 22:39:49,155 INFO sqlalchemy.engine.Engine INSERT INTO \"user\" (name, fullname) VALUES (%(name__0)s::VARCHAR, %(fullname__0)s::VARCHAR), (%(name__1)s::VARCHAR, %(fullname__1)s::VARCHAR), (%(name__2)s::VARCHAR, %(fullname__2)s::VARCHAR), (%(name__3)s::VARCHAR, %(fullname__3)s::VARCHAR), (%(name__4)s::VARCHAR, %(fullname__4)s::VARCHAR) RETURNING \"user\".id, \"user\".name, \"user\".fullname, \"user\".created_at, \"user\".updated_at\n",
      "2025-07-30 22:39:49,157 INFO sqlalchemy.engine.Engine [cached since 42.2s ago (insertmanyvalues) 1/1 (unordered)] [SQL parameters hidden due to hide_parameters=True]\n",
      "2025-07-30 22:39:49,161 INFO sqlalchemy.engine.Engine COMMIT\n",
      "[User(id=20, name='spongebob', fullname='Spongebob Squarepants'), User(id=21, name='sandy', fullname='Sandy Cheeks'), User(id=22, name='patrick', fullname='Patrick Star'), User(id=23, name='squidward', fullname='Squidward Tentacles'), User(id=24, name='ehkrabs', fullname='Eugene H. Krabs')]\n"
     ]
    }
   ],
   "source": [
    "with session_factory() as session:\n",
    "    users = session.scalars(\n",
    "        insert(UserOrm).returning(UserOrm),\n",
    "        [\n",
    "            {\"name\": \"spongebob\", \"fullname\": \"Spongebob Squarepants\"},\n",
    "            {\"name\": \"sandy\", \"fullname\": \"Sandy Cheeks\"},\n",
    "            {\"name\": \"patrick\", \"fullname\": \"Patrick Star\"},\n",
    "            {\"name\": \"squidward\", \"fullname\": \"Squidward Tentacles\"},\n",
    "            {\"name\": \"ehkrabs\", \"fullname\": \"Eugene H. Krabs\"},\n",
    "        ],\n",
    "    )\n",
    "    session.commit()\n",
    "    print(users.all())"
   ]
  },
  {
   "cell_type": "code",
   "execution_count": null,
   "id": "e7f8b187",
   "metadata": {},
   "outputs": [],
   "source": [
    "def education_examples():\n",
    "    with session_factory() as session:\n",
    "        user = session.get(UserOrm, 3)  # При обновлении через get будет 2 запроса, на получение и обновление\n",
    "        user.name=random.choice(['Бобер', 'Цыпа', 'Голубио'])\n",
    "        user.fullname=random.choice(['Бобер', 'Цыпа', 'Голубио'])\n",
    "        # session.flush()  сохраняет изменения в бд, но не завершает сессию как commit\n",
    "        session.expire(user)  # сброс незакоммиченных изменений объекта user\n",
    "        session.expire_all()  # сброс всех незакоммиченных изменений в сессии\n",
    "        print(user.fullname)  # после expire\\expire_all при попытке доступа к полям объекта будет выполнен новый запрос к БД\n",
    "        session.refresh(user)  # делает запрос в бд на получение актуальных значений"
   ]
  },
  {
   "cell_type": "code",
   "execution_count": null,
   "id": "935443b4",
   "metadata": {},
   "outputs": [
    {
     "name": "stdout",
     "output_type": "stream",
     "text": [
      "====================================================================================================\n",
      "2025-08-09 18:51:19,393 INFO sqlalchemy.engine.Engine BEGIN (implicit)\n",
      "2025-08-09 18:51:19,394 INFO sqlalchemy.engine.Engine SELECT \"user\".id, \"user\".username, \"user\".password, \"user\".fullname, \"user\".email, \"user\".disabled, \"user\".created_at, \"user\".updated_at \n",
      "FROM \"user\" \n",
      "WHERE \"user\".id = %(id_1)s::INTEGER\n",
      "2025-08-09 18:51:19,394 INFO sqlalchemy.engine.Engine [cached since 2.938s ago] [SQL parameters hidden due to hide_parameters=True]\n",
      "2025-08-09 18:51:19,396 INFO sqlalchemy.engine.Engine ROLLBACK\n",
      "$2b$12$gwGmvdhGNO2FW1pqqSQpOOgQSmX5jHpGM2Zv8TeK4shy9kFm0V8ui\n"
     ]
    },
    {
     "data": {
      "text/plain": [
       "True"
      ]
     },
     "execution_count": 2,
     "metadata": {},
     "output_type": "execute_result"
    }
   ],
   "source": [
    "from app.users.dao import UserDAO\n",
    "import random\n",
    "\n",
    "# id: dict = UserDAO.create(username=f\"spongebob{round(random.random(), 3)}\", fullname=\"Spongebob Squarepants\", password='acuna_matata')\n",
    "# UserDAO.create_bulk([{'username': \"spongebo221b\", 'fullname':\"Spongebob Squarepants\"}, {'username': \"spong11ebo1b\", 'fullname':\"Spongebob Squarepants\"}])\n",
    "# UserDAO.delete(id=69)\n",
    "print('='*100)\n",
    "user = UserDAO.find_one_or_none(id=3)\n",
    "user_pass = user['password']\n",
    "print(user_pass)\n",
    "UserDAO.is_valid_password('acuna_matata', user_pass)"
   ]
  },
  {
   "cell_type": "code",
   "execution_count": null,
   "id": "8ac46959",
   "metadata": {},
   "outputs": [
    {
     "name": "stdout",
     "output_type": "stream",
     "text": [
      "b'$2b$12$zwb/ZwhPiwc1Fayz3KtcMuPpxjSmN3TmtlU5MjspCroFSH2sdrRxC'\n",
      "It Matches!\n"
     ]
    }
   ],
   "source": [
    "import bcrypt\n",
    "password = '$2b$12$gwGmvdhGNO2FW1pqqSQpOOgQSmX5jHpGM2Zv8TeK4shy9kFm0V8ui'.encode()\n",
    "# Hash a password for the first time, with a randomly-generated salt\n",
    "hashed = bcrypt.hashpw(password, bcrypt.gensalt())\n",
    "print(hashed)\n",
    "# Check that an unhashed password matches one that has previously been\n",
    "# hashed\n",
    "if bcrypt.checkpw(password, hashed):\n",
    "    print(\"It Matches!\")\n",
    "else:\n",
    "    print(\"It Does not Match :(\")"
   ]
  },
  {
   "cell_type": "code",
   "execution_count": null,
   "id": "cbc48bc6",
   "metadata": {},
   "outputs": [
    {
     "name": "stdout",
     "output_type": "stream",
     "text": [
      "2025-08-09 18:56:10,824 INFO sqlalchemy.engine.Engine BEGIN (implicit)\n",
      "2025-08-09 18:56:10,826 INFO sqlalchemy.engine.Engine INSERT INTO \"user\" (username, password, fullname, disabled) VALUES (%(username_m0)s::VARCHAR, %(password_m0)s::VARCHAR, %(fullname_m0)s::VARCHAR, %(disabled)s), (%(username_m1)s::VARCHAR, %(password_m1)s::VARCHAR, %(fullname_m1)s::VARCHAR, %(disabled_m1)s), (%(username_m2)s::VARCHAR, %(password_m2)s::VARCHAR, %(fullname_m2)s::VARCHAR, %(disabled_m2)s), (%(username_m3)s::VARCHAR, %(password_m3)s::VARCHAR, %(fullname_m3)s::VARCHAR, %(disabled_m3)s) RETURNING \"user\".id\n",
      "2025-08-09 18:56:10,826 INFO sqlalchemy.engine.Engine [no key 0.00058s] [SQL parameters hidden due to hide_parameters=True]\n",
      "2025-08-09 18:56:10,827 INFO sqlalchemy.engine.Engine COMMIT\n",
      "====================================================================================================\n",
      "[{'id': 12}, {'id': 13}, {'id': 14}, {'id': 15}]\n",
      "2025-08-09 18:56:10,836 INFO sqlalchemy.engine.Engine BEGIN (implicit)\n",
      "2025-08-09 18:56:10,836 INFO sqlalchemy.engine.Engine SELECT \"user\".id, \"user\".username, \"user\".password, \"user\".fullname, \"user\".email, \"user\".disabled, \"user\".created_at, \"user\".updated_at \n",
      "FROM \"user\" \n",
      "WHERE \"user\".id = %(id_1)s::INTEGER\n",
      "2025-08-09 18:56:10,837 INFO sqlalchemy.engine.Engine [cached since 79.99s ago] [SQL parameters hidden due to hide_parameters=True]\n",
      "2025-08-09 18:56:10,838 INFO sqlalchemy.engine.Engine ROLLBACK\n",
      "====================================================================================================\n",
      "$2b$12$DRYrE/9l85wmk7E/LzQFrOQItezscVXhtq.ymcNA.RvPfaSJieqVy\n",
      "True\n",
      "2025-08-09 18:56:11,082 INFO sqlalchemy.engine.Engine BEGIN (implicit)\n",
      "2025-08-09 18:56:11,083 INFO sqlalchemy.engine.Engine SELECT \"user\".id, \"user\".username, \"user\".password, \"user\".fullname, \"user\".email, \"user\".disabled, \"user\".created_at, \"user\".updated_at \n",
      "FROM \"user\" \n",
      "WHERE \"user\".id = %(id_1)s::INTEGER\n",
      "2025-08-09 18:56:11,084 INFO sqlalchemy.engine.Engine [cached since 80.23s ago] [SQL parameters hidden due to hide_parameters=True]\n",
      "2025-08-09 18:56:11,085 INFO sqlalchemy.engine.Engine ROLLBACK\n",
      "====================================================================================================\n",
      "$2b$12$gx/TcdjquwCYqO3UUX/tLOXdeOchPioszSbIYJ3mvAQP9cA0L3Hha\n",
      "True\n",
      "2025-08-09 18:56:11,333 INFO sqlalchemy.engine.Engine BEGIN (implicit)\n",
      "2025-08-09 18:56:11,334 INFO sqlalchemy.engine.Engine SELECT \"user\".id, \"user\".username, \"user\".password, \"user\".fullname, \"user\".email, \"user\".disabled, \"user\".created_at, \"user\".updated_at \n",
      "FROM \"user\" \n",
      "WHERE \"user\".id = %(id_1)s::INTEGER\n",
      "2025-08-09 18:56:11,334 INFO sqlalchemy.engine.Engine [cached since 80.48s ago] [SQL parameters hidden due to hide_parameters=True]\n",
      "2025-08-09 18:56:11,337 INFO sqlalchemy.engine.Engine ROLLBACK\n",
      "====================================================================================================\n",
      "$2b$12$k1ijHAJyDsvwSnjCY.M1Ueb5s8m2VsXzu28MziPnWLVmboNQCxTx6\n",
      "True\n",
      "2025-08-09 18:56:11,586 INFO sqlalchemy.engine.Engine BEGIN (implicit)\n",
      "2025-08-09 18:56:11,587 INFO sqlalchemy.engine.Engine SELECT \"user\".id, \"user\".username, \"user\".password, \"user\".fullname, \"user\".email, \"user\".disabled, \"user\".created_at, \"user\".updated_at \n",
      "FROM \"user\" \n",
      "WHERE \"user\".id = %(id_1)s::INTEGER\n",
      "2025-08-09 18:56:11,588 INFO sqlalchemy.engine.Engine [cached since 80.74s ago] [SQL parameters hidden due to hide_parameters=True]\n",
      "2025-08-09 18:56:11,590 INFO sqlalchemy.engine.Engine ROLLBACK\n",
      "====================================================================================================\n",
      "$2b$12$3W/vkixAo4H9VzrDZx7yf..Ke685g.erktwGx3RIrvczJxZgAuAgK\n",
      "True\n"
     ]
    }
   ],
   "source": [
    "import random\n",
    "from app.users.dao import UserDAO\n",
    "\n",
    "\n",
    "ids: dict = UserDAO.create_bulk([\n",
    "    {'username': f\"spongebob{round(random.random(), 3)}\", 'fullname': \"Spongebob Squarepants\", 'password': 'acuna_matata'},\n",
    "    {'username': f\"spongebob{round(random.random(), 3)}\", 'fullname': \"Spongebob Squarepants\", 'password': 'acuna_matata'},\n",
    "    {'username': f\"spongebob{round(random.random(), 3)}\", 'fullname': \"Spongebob Squarepants\", 'password': 'acuna_matata'},\n",
    "    {'username': f\"spongebob{round(random.random(), 3)}\", 'fullname': \"Spongebob Squarepants\", 'password': 'acuna_matata'},\n",
    "])\n",
    "print('='*100)\n",
    "print(ids)\n",
    "for id in ids:\n",
    "    user = UserDAO.find_one_or_none(id=id['id'])\n",
    "    user_pass = user['password']\n",
    "    print('='*100)\n",
    "    print(user_pass)\n",
    "    print(UserDAO.is_valid_password('acuna_matata', user_pass))"
   ]
  },
  {
   "cell_type": "code",
   "execution_count": null,
   "id": "8312f1b7",
   "metadata": {},
   "outputs": [],
   "source": []
  }
 ],
 "metadata": {
  "kernelspec": {
   "display_name": "Python 3",
   "language": "python",
   "name": "python3"
  },
  "language_info": {
   "codemirror_mode": {
    "name": "ipython",
    "version": 3
   },
   "file_extension": ".py",
   "mimetype": "text/x-python",
   "name": "python",
   "nbconvert_exporter": "python",
   "pygments_lexer": "ipython3",
   "version": "3.12.9"
  }
 },
 "nbformat": 4,
 "nbformat_minor": 5
}
